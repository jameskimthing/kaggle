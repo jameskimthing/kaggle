{
  "nbformat": 4,
  "nbformat_minor": 0,
  "metadata": {
    "colab": {
      "provenance": []
    },
    "kernelspec": {
      "name": "python3",
      "display_name": "Python 3"
    },
    "language_info": {
      "name": "python"
    }
  },
  "cells": [
    {
      "cell_type": "markdown",
      "source": [
        "get data from [here](https://www.kaggle.com/competitions/titanic/data)"
      ],
      "metadata": {
        "id": "R-Js-9MR5WvI"
      }
    },
    {
      "cell_type": "code",
      "execution_count": 1,
      "metadata": {
        "id": "BL1JxqL-7MhJ"
      },
      "outputs": [],
      "source": [
        "import csv\n",
        "import tensorflow as tf\n",
        "import matplotlib.pyplot as plt\n",
        "import numpy as np"
      ]
    },
    {
      "cell_type": "code",
      "source": [
        "PASSENGERS_SURVIVED_FILE = \"./gender_submission.csv\"\n",
        "TRAIN_FILE = \"./train.csv\"\n",
        "TEST_FILE = \"./test.csv\""
      ],
      "metadata": {
        "id": "TCjXsXDd9WMe"
      },
      "execution_count": 2,
      "outputs": []
    },
    {
      "cell_type": "code",
      "source": [
        "train_labels = []\n",
        "train_values = []\n",
        "\n",
        "with open(TRAIN_FILE, \"r\") as csvfile:\n",
        "  reader = csv.reader(csvfile)\n",
        "  next(reader)\n",
        "  # 0-3 PasengerId, ((Survived)), [Pclass], Name\n",
        "  # 4-7 [Sex], [Age], [SibSp], [Parch]\n",
        "  # 8-11 Ticket [Fare] Cabin Embarked\n",
        "\n",
        "  def present(val):\n",
        "    return val != '' and val is not None\n",
        "\n",
        "  def sex(val):\n",
        "    return 0 if val == 'female' else 1\n",
        "\n",
        "  def flo(val):\n",
        "    return float(val)\n",
        "\n",
        "  def age(val):\n",
        "    return float(val) if present(val) else 30.3\n",
        "\n",
        "\n",
        "  for row in reader:\n",
        "    train_labels.append(int(row[1]))\n",
        "    train_values.append([\n",
        "        int(row[2]), # PClass\n",
        "        sex(row[4]), # Sex\n",
        "        age(row[5]), # Age\n",
        "        int(row[6]), # SipSp\n",
        "        int(row[7]), # Parch\n",
        "        flo(row[9]), # Fare\n",
        "    ])\n",
        "print(np.array(train_values).shape)"
      ],
      "metadata": {
        "colab": {
          "base_uri": "https://localhost:8080/"
        },
        "id": "uVHQ55cP-GtS",
        "outputId": "df1f5190-0e0d-4b1d-c4b6-4f2953ead001"
      },
      "execution_count": 4,
      "outputs": [
        {
          "output_type": "stream",
          "name": "stdout",
          "text": [
            "(891, 6)\n"
          ]
        }
      ]
    },
    {
      "cell_type": "code",
      "source": [
        "validation_labels = []\n",
        "validation_values = []\n",
        "validation_ids = []\n",
        "\n",
        "with open(TEST_FILE, \"r\") as csvfile:\n",
        "  reader = csv.reader(csvfile)\n",
        "  next(reader)\n",
        "  # 0-3 Passenger, Pclass, Name, Sex\n",
        "  # 4-7 Age, Sibsp, Parch, Ticket\n",
        "  # 8-10 Fare Cabin Embarked\n",
        "\n",
        "  def present(val):\n",
        "    return val != '' and val is not None\n",
        "\n",
        "  def sex(val):\n",
        "    return 0 if val == 'female' else 1\n",
        "\n",
        "  def flo(val):\n",
        "    return float(val) if present(val) else 35.6\n",
        "\n",
        "  def age(val):\n",
        "    return float(val) if present(val) else 30.3\n",
        "\n",
        "\n",
        "  for row in reader:\n",
        "    validation_ids.append(row[0])\n",
        "    validation_values.append([\n",
        "        int(row[1]), # PClass\n",
        "        sex(row[3]), # Sex\n",
        "        age(row[4]), # Age\n",
        "        int(row[5]), # SipSp\n",
        "        int(row[6]), # Parch\n",
        "        flo(row[8]), # Fare\n",
        "    ])\n",
        "\n",
        "with open(PASSENGERS_SURVIVED_FILE, \"r\") as csvfile:\n",
        "  reader = csv.reader(csvfile)\n",
        "  next(reader)\n",
        "\n",
        "  for row in reader:\n",
        "    validation_labels.append(int(row[1]))\n",
        "print(np.array(validation_values).shape)\n",
        "print(np.array(validation_ids).shape)\n",
        "print(np.array(validation_labels).shape)"
      ],
      "metadata": {
        "colab": {
          "base_uri": "https://localhost:8080/"
        },
        "id": "oz50BVxwNV6U",
        "outputId": "f6441156-aa54-4b98-ea8a-9c05376ccdfc"
      },
      "execution_count": 7,
      "outputs": [
        {
          "output_type": "stream",
          "name": "stdout",
          "text": [
            "(418, 6)\n",
            "[3, 1, 34.5, 0, 0, 7.8292]\n",
            "(418,)\n",
            "892\n",
            "(418,)\n",
            "0\n"
          ]
        }
      ]
    },
    {
      "cell_type": "code",
      "source": [
        "model = tf.keras.models.Sequential([\n",
        "    tf.keras.layers.Dense(64, input_shape=(6,), activation='relu'),\n",
        "    tf.keras.layers.Dense(64, activation='relu'),\n",
        "    tf.keras.layers.Dense(1, activation='sigmoid')\n",
        "])\n",
        "\n",
        "\n",
        "optimizer = tf.keras.optimizers.Adam()\n",
        "\n",
        "model.compile(\n",
        "    optimizer=optimizer,\n",
        "    loss='binary_crossentropy',\n",
        "    metrics=['accuracy'],\n",
        ")\n",
        "\n",
        "history = model.fit(\n",
        "    x=train_values,\n",
        "    y=train_labels,\n",
        "    epochs=35,\n",
        "    validation_data=(validation_values, validation_labels)\n",
        ")"
      ],
      "metadata": {
        "colab": {
          "base_uri": "https://localhost:8080/"
        },
        "id": "agDpHl_BDl-d",
        "outputId": "c680d9cd-c079-46f7-c29c-e3d4ef2449af"
      },
      "execution_count": 12,
      "outputs": [
        {
          "output_type": "stream",
          "name": "stdout",
          "text": [
            "Epoch 1/35\n",
            "28/28 [==============================] - 2s 18ms/step - loss: 1.3613 - accuracy: 0.5690 - val_loss: 1.1046 - val_accuracy: 0.6268\n",
            "Epoch 2/35\n",
            "28/28 [==============================] - 0s 10ms/step - loss: 0.6735 - accuracy: 0.6723 - val_loss: 0.6219 - val_accuracy: 0.6675\n",
            "Epoch 3/35\n",
            "28/28 [==============================] - 0s 10ms/step - loss: 0.5984 - accuracy: 0.6835 - val_loss: 0.6500 - val_accuracy: 0.6699\n",
            "Epoch 4/35\n",
            "28/28 [==============================] - 0s 7ms/step - loss: 0.6261 - accuracy: 0.6655 - val_loss: 0.6841 - val_accuracy: 0.6746\n",
            "Epoch 5/35\n",
            "28/28 [==============================] - 0s 7ms/step - loss: 0.6077 - accuracy: 0.6958 - val_loss: 0.7228 - val_accuracy: 0.6746\n",
            "Epoch 6/35\n",
            "28/28 [==============================] - 0s 5ms/step - loss: 0.5906 - accuracy: 0.7015 - val_loss: 0.6405 - val_accuracy: 0.6794\n",
            "Epoch 7/35\n",
            "28/28 [==============================] - 0s 6ms/step - loss: 0.5762 - accuracy: 0.6992 - val_loss: 0.6301 - val_accuracy: 0.6962\n",
            "Epoch 8/35\n",
            "28/28 [==============================] - 0s 5ms/step - loss: 0.5838 - accuracy: 0.7048 - val_loss: 0.5671 - val_accuracy: 0.6746\n",
            "Epoch 9/35\n",
            "28/28 [==============================] - 0s 7ms/step - loss: 0.5611 - accuracy: 0.7003 - val_loss: 0.7425 - val_accuracy: 0.6842\n",
            "Epoch 10/35\n",
            "28/28 [==============================] - 0s 5ms/step - loss: 0.5831 - accuracy: 0.7003 - val_loss: 0.5795 - val_accuracy: 0.7177\n",
            "Epoch 11/35\n",
            "28/28 [==============================] - 0s 5ms/step - loss: 0.5506 - accuracy: 0.7093 - val_loss: 0.6148 - val_accuracy: 0.6938\n",
            "Epoch 12/35\n",
            "28/28 [==============================] - 0s 7ms/step - loss: 0.5390 - accuracy: 0.7250 - val_loss: 0.6164 - val_accuracy: 0.6986\n",
            "Epoch 13/35\n",
            "28/28 [==============================] - 0s 5ms/step - loss: 0.5321 - accuracy: 0.7396 - val_loss: 0.4981 - val_accuracy: 0.7416\n",
            "Epoch 14/35\n",
            "28/28 [==============================] - 0s 6ms/step - loss: 0.5312 - accuracy: 0.7475 - val_loss: 0.5517 - val_accuracy: 0.7464\n",
            "Epoch 15/35\n",
            "28/28 [==============================] - 0s 5ms/step - loss: 0.5435 - accuracy: 0.7183 - val_loss: 0.4860 - val_accuracy: 0.7368\n",
            "Epoch 16/35\n",
            "28/28 [==============================] - 0s 5ms/step - loss: 0.5248 - accuracy: 0.7441 - val_loss: 0.5924 - val_accuracy: 0.6459\n",
            "Epoch 17/35\n",
            "28/28 [==============================] - 0s 5ms/step - loss: 0.5257 - accuracy: 0.7464 - val_loss: 0.4540 - val_accuracy: 0.7416\n",
            "Epoch 18/35\n",
            "28/28 [==============================] - 0s 5ms/step - loss: 0.4913 - accuracy: 0.7800 - val_loss: 0.4961 - val_accuracy: 0.7967\n",
            "Epoch 19/35\n",
            "28/28 [==============================] - 0s 5ms/step - loss: 0.5126 - accuracy: 0.7531 - val_loss: 0.6656 - val_accuracy: 0.7871\n",
            "Epoch 20/35\n",
            "28/28 [==============================] - 0s 5ms/step - loss: 0.5363 - accuracy: 0.7396 - val_loss: 0.4787 - val_accuracy: 0.7297\n",
            "Epoch 21/35\n",
            "28/28 [==============================] - 0s 6ms/step - loss: 0.4840 - accuracy: 0.7710 - val_loss: 0.4416 - val_accuracy: 0.7488\n",
            "Epoch 22/35\n",
            "28/28 [==============================] - 0s 5ms/step - loss: 0.4829 - accuracy: 0.7666 - val_loss: 0.4014 - val_accuracy: 0.7943\n",
            "Epoch 23/35\n",
            "28/28 [==============================] - 0s 5ms/step - loss: 0.5148 - accuracy: 0.7800 - val_loss: 0.3831 - val_accuracy: 0.8971\n",
            "Epoch 24/35\n",
            "28/28 [==============================] - 0s 5ms/step - loss: 0.4672 - accuracy: 0.8070 - val_loss: 0.4433 - val_accuracy: 0.8684\n",
            "Epoch 25/35\n",
            "28/28 [==============================] - 0s 5ms/step - loss: 0.4925 - accuracy: 0.7778 - val_loss: 0.4999 - val_accuracy: 0.8732\n",
            "Epoch 26/35\n",
            "28/28 [==============================] - 0s 5ms/step - loss: 0.4728 - accuracy: 0.7924 - val_loss: 0.3715 - val_accuracy: 0.8110\n",
            "Epoch 27/35\n",
            "28/28 [==============================] - 0s 6ms/step - loss: 0.4600 - accuracy: 0.7969 - val_loss: 0.3577 - val_accuracy: 0.9187\n",
            "Epoch 28/35\n",
            "28/28 [==============================] - 0s 5ms/step - loss: 0.4640 - accuracy: 0.8047 - val_loss: 0.4069 - val_accuracy: 0.8708\n",
            "Epoch 29/35\n",
            "28/28 [==============================] - 0s 5ms/step - loss: 0.4675 - accuracy: 0.7868 - val_loss: 0.3604 - val_accuracy: 0.9043\n",
            "Epoch 30/35\n",
            "28/28 [==============================] - 0s 4ms/step - loss: 0.4503 - accuracy: 0.8070 - val_loss: 0.3867 - val_accuracy: 0.8804\n",
            "Epoch 31/35\n",
            "28/28 [==============================] - 0s 5ms/step - loss: 0.4666 - accuracy: 0.7890 - val_loss: 0.3963 - val_accuracy: 0.8756\n",
            "Epoch 32/35\n",
            "28/28 [==============================] - 0s 4ms/step - loss: 0.4975 - accuracy: 0.7800 - val_loss: 0.3997 - val_accuracy: 0.8780\n",
            "Epoch 33/35\n",
            "28/28 [==============================] - 0s 5ms/step - loss: 0.4903 - accuracy: 0.7868 - val_loss: 0.3618 - val_accuracy: 0.8852\n",
            "Epoch 34/35\n",
            "28/28 [==============================] - 0s 5ms/step - loss: 0.5038 - accuracy: 0.7767 - val_loss: 0.3391 - val_accuracy: 0.8971\n",
            "Epoch 35/35\n",
            "28/28 [==============================] - 0s 5ms/step - loss: 0.4822 - accuracy: 0.7868 - val_loss: 0.3937 - val_accuracy: 0.8636\n"
          ]
        }
      ]
    },
    {
      "cell_type": "code",
      "source": [
        "# to_predict = np.array(validation_values)\n",
        "# to_predict = np.expand_dims(to_predict, axis=-1)\n",
        "\n",
        "with open(\"./submission.csv\", mode=\"w\", newline='') as csvfile:\n",
        "  writer = csv.writer(csvfile)\n",
        "  writer.writerow([\"PassengerId\", \"Survived\"])\n",
        "  predictions = model.predict(validation_values)\n",
        "  for i in range(len(predictions)):\n",
        "    prediction = 0 if predictions[i] < 0.5 else 1\n",
        "    writer.writerow([validation_ids[i], prediction])\n",
        "  # predictions = list(map(lambda p: 0 if p < 0.5 else 1, predictions))\n",
        "  # print(predictions[:10])\n",
        "  # for i in range(len(validation_values)):\n",
        "  #   prediction = model.predict(to_predict[i])\n",
        "  #   writer.writerow([validation_ids[i], prediction[0]])\n",
        "\n",
        "  #   if i == 10:\n",
        "  #     break\n"
      ],
      "metadata": {
        "colab": {
          "base_uri": "https://localhost:8080/"
        },
        "id": "SiCPv5LXTcPv",
        "outputId": "fd712646-ed7d-4cec-c4d4-8b7d769b78ce"
      },
      "execution_count": 24,
      "outputs": [
        {
          "output_type": "stream",
          "name": "stdout",
          "text": [
            "14/14 [==============================] - 0s 2ms/step\n"
          ]
        }
      ]
    },
    {
      "cell_type": "code",
      "source": [
        "print(round(0.2))\n",
        "print(round(0.6))"
      ],
      "metadata": {
        "colab": {
          "base_uri": "https://localhost:8080/"
        },
        "id": "VJcmsCpnlRMD",
        "outputId": "59b204d2-c009-4115-942d-e3055fb7e2d8"
      },
      "execution_count": 14,
      "outputs": [
        {
          "output_type": "stream",
          "name": "stdout",
          "text": [
            "0\n",
            "1\n"
          ]
        }
      ]
    }
  ]
}